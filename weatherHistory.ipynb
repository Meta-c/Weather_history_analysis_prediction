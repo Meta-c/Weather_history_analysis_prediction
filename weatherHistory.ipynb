{
 "cells": [
  {
   "cell_type": "code",
   "execution_count": 1,
   "metadata": {},
   "outputs": [],
   "source": [
    "#At first, we import python libraries that we need\n",
    "import pandas as pd \n",
    "import numpy as np\n",
    "import matplotlib.pyplot as plt\n",
    "import seaborn as sns\n",
    "from sklearn import preprocessing\n",
    "from sklearn.metrics import confusion_matrix\n",
    "from sklearn.model_selection import train_test_split\n",
    "from sklearn.metrics import accuracy_score\n",
    "from sklearn import svm\n",
    "from sklearn.neighbors import KNeighborsClassifier"
   ]
  },
  {
   "cell_type": "code",
   "execution_count": 2,
   "metadata": {},
   "outputs": [
    {
     "data": {
      "text/plain": [
       "Formatted Date              0\n",
       "Summary                     0\n",
       "Precip Type                 0\n",
       "Temperature (C)             0\n",
       "Apparent Temperature (C)    0\n",
       "Humidity                    0\n",
       "Wind Speed (km/h)           0\n",
       "Wind Bearing (degrees)      0\n",
       "Visibility (km)             0\n",
       "Loud Cover                  0\n",
       "Pressure (millibars)        0\n",
       "Daily Summary               0\n",
       "dtype: int64"
      ]
     },
     "execution_count": 2,
     "metadata": {},
     "output_type": "execute_result"
    }
   ],
   "source": [
    "    #  Secondly, read csv file\n",
    "data =pd.read_csv('/data_zeft/weatherHistory.csv')\n",
    "\n",
    "data.isnull().sum()\n",
    "data['Precip Type'].unique()\n",
    "\n",
    "data['Precip Type'] = data['Precip Type'].fillna(\"None\")\n",
    "data.isnull().sum()"
   ]
  },
  {
   "cell_type": "code",
   "execution_count": 3,
   "metadata": {},
   "outputs": [
    {
     "data": {
      "text/plain": [
       "24"
      ]
     },
     "execution_count": 3,
     "metadata": {},
     "output_type": "execute_result"
    }
   ],
   "source": [
    "data.dropna(axis = 0 , inplace=True)\n",
    "\n",
    "    #  List first 5 records\n",
    "data.head(5)\n",
    "data.isnull().sum()\n",
    "\n",
    "    #  List the types of the columns\n",
    "data.drop(columns = 'Loud Cover',inplace=True)\n",
    "data.dtypes\n",
    "\n",
    "    #  Descriptive statistics for the numeric columns\n",
    "data.describe()\n",
    "\n",
    "    #  Represent the dimensionality\n",
    "data.shape\n",
    "\n",
    "    #  Number of elements\n",
    "data.size # 96453 rows x 12 columns\n",
    "\n",
    "    #  Find the number of repeated rows\n",
    "data.duplicated().sum()"
   ]
  },
  {
   "cell_type": "code",
   "execution_count": 6,
   "metadata": {},
   "outputs": [
    {
     "data": {
      "image/png": "[encoded data removed]",
      "text/plain": [
       "<Figure size 500x500 with 1 Axes>"
      ]
     },
     "metadata": {},
     "output_type": "display_data"
    }
   ],
   "source": [
    "#Creating bar plot or any plot type we need\n",
    "# sns.barplot(x = 'Wind Bearing (degrees)',y = 'Humidity' ,data=data)\n",
    "sns.catplot(x='Wind Bearing (degrees)', y='Humidity', data=data)\n",
    "#Adding the aesthetics\n",
    "plt.xlabel('X axis title')\n",
    "plt.ylabel('Y axis title') \n",
    "\n",
    "# Show the plot\n",
    "plt.show()"
   ]
  },
  {
   "cell_type": "code",
   "execution_count": null,
   "metadata": {},
   "outputs": [],
   "source": [
    "     #  List the data\n",
    "x= data.iloc[:,3:9]\n",
    "y=data['Apparent Temperature (C)'].tolist()# Change the array to a list of same items\n",
    "print(x)\n",
    "print(y)"
   ]
  },
  {
   "cell_type": "code",
   "execution_count": null,
   "metadata": {},
   "outputs": [],
   "source": [
    "#convert y values to categorical values\n",
    "lab = preprocessing.LabelEncoder()\n",
    "y_transformed = lab.fit_transform(y)\n",
    "print(len(y_transformed))\n",
    "\n",
    "# Select 24000 rows for testing dataset\n",
    "x_test = x.iloc[0:24000,:].values.astype('float32') # Change selected items data type\n",
    "y_test=y_transformed[0:24000]\n",
    "x_train = x.iloc[24001::, :].values.astype('float32') # Change selected items data type\n",
    "y_train=y_transformed[24001::]\n",
    "# #convert y values to categorical values\n",
    "# lab = preprocessing.LabelEncoder()\n",
    "# y_train = lab.fit_transform(y)\n",
    "\n",
    "# #view transformed values\n",
    "# print(y_train)\n",
    "\n",
    "# Normalizing the features for test and train\n",
    "print((min(x_train[2]), max(x_train[2])))\n",
    "\n",
    "# Data normalization\n",
    "x_train=x_train/255.0\n",
    "x_test=x_test/255.0\n",
    "\n",
    "# Print the dataset train and test shape\n",
    "print('x_train shape:',x_train.shape)\n",
    "print(x_train.shape[0],'train samples')\n",
    "print(x_test.shape[0],'test samples')"
   ]
  },
  {
   "cell_type": "code",
   "execution_count": null,
   "metadata": {},
   "outputs": [],
   "source": [
    "#  Applying SVM algorithm\n",
    "SVM_model=svm.SVC(C=5.0,kernel='rbf')\n",
    "\n",
    "# Train the algorithm\n",
    "SVM_model.fit(x_train,y_train,)\n",
    "\n"
   ]
  },
  {
   "cell_type": "code",
   "execution_count": null,
   "metadata": {},
   "outputs": [],
   "source": [
    "# Make prediction by test data\n",
    "y_pred=SVM_model.predict(x_test)\n",
    "\n",
    "    # Get model accuracy\n",
    "accuracy_score(y_pred,y_test)"
   ]
  },
  {
   "cell_type": "code",
   "execution_count": null,
   "metadata": {},
   "outputs": [],
   "source": [
    " \n",
    "# Split into training and test set\n",
    "x_train, x_test, y_train, y_test = train_test_split(x, y, test_size = 0.2, random_state=42)\n",
    "  \n",
    "knn = KNeighborsClassifier(n_neighbors=7)\n",
    "  \n",
    "knn.fit(x_train, y_train)\n",
    "  \n",
    "# Calculate the accuracy of the model\n",
    "print(knn.score(x_test, y_test))"
   ]
  },
  {
   "cell_type": "code",
   "execution_count": null,
   "metadata": {},
   "outputs": [],
   "source": [
    "# splitting X and y into training and testing sets\n",
    "X_train, X_test, y_train, y_test = train_test_split(x, y, test_size=0.4, random_state=1)\n",
    "  \n",
    "# training the model on training set\n",
    "from sklearn.naive_bayes import GaussianNB\n",
    "gnb = GaussianNB()\n",
    "gnb.fit(X_train, y_train)\n",
    "  \n",
    "# making predictions on the testing set\n",
    "y_pred = gnb.predict(X_test)\n",
    "  \n",
    "# comparing actual response values (y_test) with predicted response values (y_pred)\n",
    "from sklearn import metrics\n",
    "print(\"Gaussian Naive Bayes model accuracy(in %):\", metrics.accuracy_score(y_test, y_pred)*100)"
   ]
  },
  {
   "cell_type": "code",
   "execution_count": null,
   "metadata": {},
   "outputs": [],
   "source": [
    "from sklearn import metrics\n",
    "    # Generate the numbers for \"actual\" and \"predicted\" values.\n",
    "actual = np.random.binomial(1,.9,size = 1000)\n",
    "predicted = np.random.binomial(1,.9,size = 1000)\n",
    "    # We use the confusion matrix function on our actual and predicted values.\n",
    "confusion_matrix = metrics.confusion_matrix(actual, predicted)\n",
    "    # Convert the table into a confusion matrix display.\n",
    "cm_display = metrics.ConfusionMatrixDisplay(confusion_matrix = confusion_matrix, display_labels = [False, True])\n",
    "    # Finally we display the plot\n",
    "cm_display.plot()\n",
    "plt.show()\n"
   ]
  }
 ],
 "metadata": {
  "kernelspec": {
   "display_name": "tf2.4",
   "language": "python",
   "name": "python3"
  },
  "language_info": {
   "codemirror_mode": {
    "name": "ipython",
    "version": 3
   },
   "file_extension": ".py",
   "mimetype": "text/x-python",
   "name": "python",
   "nbconvert_exporter": "python",
   "pygments_lexer": "ipython3",
   "version": "3.10.0"
  },
  "orig_nbformat": 4,
  "vscode": {
   "interpreter": {
    "hash": "253ae6feff4fd1b8c72e2ad785b88438628b5b076110376ae0f22865de7b119a"
   }
  }
 },
 "nbformat": 4,
 "nbformat_minor": 2
}
